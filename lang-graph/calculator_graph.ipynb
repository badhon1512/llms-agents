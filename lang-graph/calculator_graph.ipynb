{
 "cells": [
  {
   "cell_type": "code",
   "execution_count": 16,
   "id": "fdc538d8",
   "metadata": {},
   "outputs": [],
   "source": [
    "from typing import Dict, List, TypedDict\n",
    "from langgraph.graph import StateGraph\n",
    "from IPython.display import Image, display"
   ]
  },
  {
   "cell_type": "code",
   "execution_count": 8,
   "id": "374a77c8",
   "metadata": {},
   "outputs": [],
   "source": [
    "class AgentState(TypedDict):\n",
    "    name:str\n",
    "    numbers : List[int]\n",
    "    operator : str\n",
    "    result : str"
   ]
  },
  {
   "cell_type": "code",
   "execution_count": 20,
   "id": "f83e728c",
   "metadata": {},
   "outputs": [],
   "source": [
    "def get_calculation(state:AgentState)->AgentState:\n",
    "    \"\"\"Cal\"\"\"\n",
    "     \n",
    "    if state['operator'] == \"+\":\n",
    "        state['result'] = f\"Hey {state['name']} your result is : {sum(state['numbers'])}\"\n",
    "    elif state['operator'] == \"-\":\n",
    "        state['result'] = f\"Hey {state['name']} your result is : {reduce(lambda x, y: x - y, state['numbers'])}\"\n",
    "    else:\n",
    "        state['result'] = \"Please send the right op. (+,-)\"\n",
    "    return state    "
   ]
  },
  {
   "cell_type": "code",
   "execution_count": 21,
   "id": "42a6ca7d",
   "metadata": {},
   "outputs": [],
   "source": [
    "graph = StateGraph(AgentState)\n",
    "graph.add_node(\"cal\", get_calculation)\n",
    "graph.set_entry_point(\"cal\")\n",
    "graph.set_finish_point(\"cal\")\n",
    "\n",
    "app = graph.compile()"
   ]
  },
  {
   "cell_type": "code",
   "execution_count": 22,
   "id": "039d6685",
   "metadata": {},
   "outputs": [
    {
     "data": {
      "image/png": "[encoded data removed]",
      "text/plain": [
       "<IPython.core.display.Image object>"
      ]
     },
     "metadata": {},
     "output_type": "display_data"
    }
   ],
   "source": [
    "display(Image(app.get_graph().draw_mermaid_png()))"
   ]
  },
  {
   "cell_type": "code",
   "execution_count": 23,
   "id": "8baf0c30",
   "metadata": {},
   "outputs": [
    {
     "data": {
      "text/plain": [
       "{'name': 'badhon',\n",
       " 'operator': 'k',\n",
       " 'result': 'Please send the right op. (+,-)'}"
      ]
     },
     "execution_count": 23,
     "metadata": {},
     "output_type": "execute_result"
    }
   ],
   "source": [
    "app.invoke({\"name\":\"badhon\", \"operator\":\"k\"})"
   ]
  },
  {
   "cell_type": "code",
   "execution_count": 26,
   "id": "2fddc4de",
   "metadata": {},
   "outputs": [],
   "source": [
    "r = app.invoke({\"name\":\"badhon\", \"operator\":\"+\", \"numbers\":[1,2,3,4]})"
   ]
  },
  {
   "cell_type": "code",
   "execution_count": 27,
   "id": "c1a17d5d",
   "metadata": {},
   "outputs": [
    {
     "data": {
      "text/plain": [
       "'Hey badhon your result is : 10'"
      ]
     },
     "execution_count": 27,
     "metadata": {},
     "output_type": "execute_result"
    }
   ],
   "source": [
    "r['result']"
   ]
  },
  {
   "cell_type": "code",
   "execution_count": null,
   "id": "31e79d00",
   "metadata": {},
   "outputs": [],
   "source": []
  }
 ],
 "metadata": {
  "kernelspec": {
   "display_name": "ml",
   "language": "python",
   "name": "ml"
  },
  "language_info": {
   "codemirror_mode": {
    "name": "ipython",
    "version": 3
   },
   "file_extension": ".py",
   "mimetype": "text/x-python",
   "name": "python",
   "nbconvert_exporter": "python",
   "pygments_lexer": "ipython3",
   "version": "3.11.6"
  }
 },
 "nbformat": 4,
 "nbformat_minor": 5
}
