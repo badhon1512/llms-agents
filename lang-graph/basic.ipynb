{
 "cells": [
  {
   "cell_type": "code",
   "execution_count": 22,
   "id": "9b88ac88",
   "metadata": {},
   "outputs": [],
   "source": [
    "from typing import Dict, TypedDict, Optional\n",
    "from langgraph.graph import StateGraph\n",
    "from IPython.display import Image, display"
   ]
  },
  {
   "cell_type": "code",
   "execution_count": 23,
   "id": "b1ade7c0",
   "metadata": {},
   "outputs": [],
   "source": [
    "class AgentState(TypedDict): # State(memory) that share data across the graph\n",
    "    message:Optional[str]\n",
    "    name : str"
   ]
  },
  {
   "cell_type": "code",
   "execution_count": 24,
   "id": "13fa1eac",
   "metadata": {},
   "outputs": [],
   "source": [
    "def sample_node(state:AgentState) -> AgentState:\n",
    "    state['message'] = \"Hi \"  + state['name'] +\", Welcome from first sample node\"\n",
    "\n",
    "    return state"
   ]
  },
  {
   "cell_type": "code",
   "execution_count": 25,
   "id": "34dad726",
   "metadata": {},
   "outputs": [],
   "source": [
    "graph = StateGraph(AgentState)\n",
    "graph.add_node(\"welcome_node\", sample_node)\n",
    "graph.set_entry_point(\"welcome_node\")\n",
    "graph.set_finish_point(\"welcome_node\")\n",
    "\n",
    "app = graph.compile()"
   ]
  },
  {
   "cell_type": "code",
   "execution_count": 26,
   "id": "e6fba170",
   "metadata": {},
   "outputs": [
    {
     "data": {
      "image/png": "[encoded data removed]",
      "text/plain": [
       "<IPython.core.display.Image object>"
      ]
     },
     "metadata": {},
     "output_type": "display_data"
    }
   ],
   "source": [
    "display(Image(app.get_graph().draw_mermaid_png()))"
   ]
  },
  {
   "cell_type": "code",
   "execution_count": 27,
   "id": "49a36e5c",
   "metadata": {},
   "outputs": [],
   "source": [
    "content = app.invoke({\"name\":\"badhon\"})"
   ]
  },
  {
   "cell_type": "code",
   "execution_count": 28,
   "id": "f069a121",
   "metadata": {},
   "outputs": [
    {
     "data": {
      "text/plain": [
       "'Hi badhon, Welcome from first sample node'"
      ]
     },
     "execution_count": 28,
     "metadata": {},
     "output_type": "execute_result"
    }
   ],
   "source": [
    "content['message']"
   ]
  },
  {
   "cell_type": "code",
   "execution_count": null,
   "id": "f88bcb67",
   "metadata": {},
   "outputs": [],
   "source": []
  },
  {
   "cell_type": "code",
   "execution_count": null,
   "id": "7abf8c1d",
   "metadata": {},
   "outputs": [],
   "source": []
  }
 ],
 "metadata": {
  "kernelspec": {
   "display_name": "ml",
   "language": "python",
   "name": "ml"
  },
  "language_info": {
   "codemirror_mode": {
    "name": "ipython",
    "version": 3
   },
   "file_extension": ".py",
   "mimetype": "text/x-python",
   "name": "python",
   "nbconvert_exporter": "python",
   "pygments_lexer": "ipython3",
   "version": "3.11.6"
  }
 },
 "nbformat": 4,
 "nbformat_minor": 5
}
