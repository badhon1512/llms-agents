{
 "cells": [
  {
   "cell_type": "code",
   "execution_count": 3,
   "id": "c52d9b54",
   "metadata": {},
   "outputs": [],
   "source": [
    "from typing import List, TypedDict, Dict\n",
    "from langgraph.graph import StateGraph, START, END\n",
    "from IPython.display import Image, display\n",
    "import random"
   ]
  },
  {
   "cell_type": "markdown",
   "id": "098afbdb",
   "metadata": {},
   "source": [
    "### Graph State"
   ]
  },
  {
   "cell_type": "code",
   "execution_count": 4,
   "id": "bdd47e34",
   "metadata": {},
   "outputs": [],
   "source": [
    "class AgentState(TypedDict):\n",
    "    name:str\n",
    "    numbers:List[int]\n",
    "    message:str\n",
    "    counter:int"
   ]
  },
  {
   "cell_type": "markdown",
   "id": "14a92667",
   "metadata": {},
   "source": [
    "### Nodes"
   ]
  },
  {
   "cell_type": "code",
   "execution_count": 17,
   "id": "3679ded6",
   "metadata": {},
   "outputs": [],
   "source": [
    "def first_node(state:AgentState)->AgentState:\n",
    "    \"\"\"First node of the Looping Graph\"\"\"\n",
    "\n",
    "    state['message'] = f\"Hi {state['name']}, have a good day!!\"\n",
    "    state.setdefault('numbers', [])\n",
    "    state['counter'] = 0\n",
    "\n",
    "    return state\n",
    "\n"
   ]
  },
  {
   "cell_type": "code",
   "execution_count": 18,
   "id": "b878ffc1",
   "metadata": {},
   "outputs": [],
   "source": [
    "def random_number_generator(state:AgentState)->AgentState:\n",
    "    \"\"\"Loop Node\"\"\"\n",
    "\n",
    "    state['numbers'].append(random.randint(1,10))\n",
    "    state['counter'] +=1\n",
    "\n",
    "    return state\n",
    "\n"
   ]
  },
  {
   "cell_type": "code",
   "execution_count": 19,
   "id": "1cea422e",
   "metadata": {},
   "outputs": [],
   "source": [
    "def decider(state:AgentState)->str:\n",
    "\n",
    "    if state['counter'] < 5:\n",
    "        return 'continue'\n",
    "    else:\n",
    "        return 'break'"
   ]
  },
  {
   "cell_type": "markdown",
   "id": "27564211",
   "metadata": {},
   "source": [
    "### Building the Graph"
   ]
  },
  {
   "cell_type": "code",
   "execution_count": 20,
   "id": "ebfc587e",
   "metadata": {},
   "outputs": [],
   "source": [
    "graph = StateGraph(AgentState)\n",
    "\n",
    "graph.add_node('first_node', first_node)\n",
    "graph.add_node('random_node', random_number_generator)\n",
    "\n",
    "graph.add_edge(START, 'first_node')\n",
    "\n",
    "graph.add_edge('first_node', 'random_node')\n",
    "\n",
    "graph.add_conditional_edges(\n",
    "    'random_node',\n",
    "    decider,\n",
    "    {\n",
    "        'continue' : 'random_node',\n",
    "        'break':END\n",
    "    }\n",
    "\n",
    ")\n",
    "\n",
    "app = graph.compile()"
   ]
  },
  {
   "cell_type": "markdown",
   "id": "a0eb2f86",
   "metadata": {},
   "source": [
    "## Display the Graph"
   ]
  },
  {
   "cell_type": "code",
   "execution_count": 21,
   "id": "3556ae40",
   "metadata": {},
   "outputs": [
    {
     "data": {
      "image/png": "[encoded data removed]",
      "text/plain": [
       "<IPython.core.display.Image object>"
      ]
     },
     "metadata": {},
     "output_type": "display_data"
    }
   ],
   "source": [
    "display(Image(app.get_graph().draw_mermaid_png()))"
   ]
  },
  {
   "cell_type": "code",
   "execution_count": 22,
   "id": "f735a900",
   "metadata": {},
   "outputs": [],
   "source": [
    "state = AgentState({'name':'badhon'})"
   ]
  },
  {
   "cell_type": "code",
   "execution_count": 23,
   "id": "07305c37",
   "metadata": {},
   "outputs": [
    {
     "data": {
      "text/plain": [
       "{'name': 'badhon',\n",
       " 'numbers': [5, 5, 1, 5, 10],\n",
       " 'message': 'Hi badhon, have a good day!!',\n",
       " 'counter': 5}"
      ]
     },
     "execution_count": 23,
     "metadata": {},
     "output_type": "execute_result"
    }
   ],
   "source": [
    "app.invoke(state)"
   ]
  },
  {
   "cell_type": "code",
   "execution_count": null,
   "id": "e7da9ebf",
   "metadata": {},
   "outputs": [],
   "source": []
  }
 ],
 "metadata": {
  "kernelspec": {
   "display_name": "ml",
   "language": "python",
   "name": "ml"
  },
  "language_info": {
   "codemirror_mode": {
    "name": "ipython",
    "version": 3
   },
   "file_extension": ".py",
   "mimetype": "text/x-python",
   "name": "python",
   "nbconvert_exporter": "python",
   "pygments_lexer": "ipython3",
   "version": "3.11.6"
  }
 },
 "nbformat": 4,
 "nbformat_minor": 5
}
