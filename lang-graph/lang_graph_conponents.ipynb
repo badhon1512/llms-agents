{
 "cells": [
  {
   "cell_type": "code",
   "execution_count": 1,
   "id": "bf5ba6e9",
   "metadata": {},
   "outputs": [],
   "source": [
    "from dotenv import load_dotenv"
   ]
  },
  {
   "cell_type": "code",
   "execution_count": 57,
   "id": "aa672445",
   "metadata": {},
   "outputs": [],
   "source": [
    "from typing import TypedDict, Annotated\n",
    "from langgraph.graph import StateGraph, END\n",
    "from langchain_core.messages import AnyMessage, SystemMessage, HumanMessage, ToolMessage\n",
    "from langchain_community.tools.tavily_search import TavilySearchResults\n",
    "from groq import Groq\n",
    "import operator\n",
    "from langchain_groq import ChatGroq\n",
    "import json\n",
    "from langchain_openai import ChatOpenAI\n",
    "\n"
   ]
  },
  {
   "cell_type": "code",
   "execution_count": 31,
   "id": "8bff2c24",
   "metadata": {},
   "outputs": [
    {
     "data": {
      "text/plain": [
       "True"
      ]
     },
     "execution_count": 31,
     "metadata": {},
     "output_type": "execute_result"
    }
   ],
   "source": [
    "load_dotenv()"
   ]
  },
  {
   "cell_type": "code",
   "execution_count": 32,
   "id": "72816b72",
   "metadata": {},
   "outputs": [],
   "source": [
    "tool = TavilySearchResults(max_results=4)"
   ]
  },
  {
   "cell_type": "code",
   "execution_count": 33,
   "id": "9377292d",
   "metadata": {},
   "outputs": [
    {
     "data": {
      "text/plain": [
       "[{'title': 'Presidents, vice presidents, and first ladies | USAGov',\n",
       "  'url': 'https://www.usa.gov/presidents',\n",
       "  'content': 'Learn about the duties of president, vice president, and first lady of the United States. Find out how to contact and learn more about current and past leaders.\\n\\nPresident of the United States\\n\\nThe president of the United States is the:\\n\\n   U.S. head of state\\n   Leader of the executive branch\\n   Commander in chief of the armed forces\\n\\n### Current president\\n\\nThe 47th and current president of the United States is Donald John Trump.He was sworn into office on January 20, 2025. [...] The vice president of the United States presides over the U.S. Senate and takes over the role of president of the United States if the president is unable to perform their duties. If the vice president is not able to fulfill the duties of president, the role is passed to another leader in the order of presidential succession.\\n\\n### Current vice president\\n\\nThe 50th and current vice president of the United States is James David (JD) Vance. He was sworn in on January 20, 2025 [...] ### Former vice presidents\\n\\nRead about past presidents and vice presidents.\\n\\nFirst lady\\n\\nThe First lady of the United States has traditionally been the wife or other close female relative of the president of the United States. First ladies:\\n\\n   Host White House events\\n   Serve as informal advisors to the president\\n   Often become involved in social issues and causes\\n\\n### Current first lady\\n\\nThe current first lady of the United States is Melania Trump.\\n\\n### Former first ladies',\n",
       "  'score': 0.7859175},\n",
       " {'title': 'President of the United States - Wikipedia',\n",
       "  'url': 'https://en.wikipedia.org/wiki/President_of_the_United_States',\n",
       "  'content': 'President Pro TemporeChuck Grassley (R)\\n\\n   Majority LeaderJohn Thune (R)\\n\\n   Minority LeaderChuck Schumer (D)\\nshow\\n\\nExecutive\\n\\n   President of the United States\\n\\n   Donald Trump (R)\\n\\n   Vice President of the United States\\n\\n   JD Vance (R)\\n\\n  \\n\\n   Cabinet\\n   Federal agencies\\n   Executive Office\\nshow\\n\\nJudiciary\\n\\n   Supreme Court of the United States\\n\\n   Chief JusticeJohn Roberts\\n\\n   Thomas\\n   Alito\\n   Sotomayor\\n   Kagan\\n\\n   Gorsuch\\n   Kavanaugh\\n   Barrett\\n   Jackson [...] | Image 7 Presidential seal |\\n| Image 8 Presidential flag |\\n| Image 9.jpg) Incumbent Donald Trump since January 20, 2025 |\\n|  Executive branch of the U.S. government  Executive Office of the President |\\n| Style \"Style (form of address)\") |  Mr. President \"President (government title)\")( (informal)  The Honorable( (formal)  His Excellency( (diplomatic) |\\n| Type |  Head of state  Head of government  Commander-in-chief |\\n| Abbreviation | POTUS | [...] The president is elected indirectly through the Electoral College to a four-year term, along with the vice president. Under the Twenty-second Amendment, ratified in 1951, no person who has been elected to two presidential terms may be elected to a third. In addition, nine vice presidents have become president by virtue of a president\\'s intra-term death or resignation.( In all, 45 individuals have served 47 presidencies spanning 60 four-year terms.( Trump is the 47th and current president since',\n",
       "  'score': 0.52612424},\n",
       " {'title': 'The White House',\n",
       "  'url': 'https://www.whitehouse.gov/',\n",
       "  'content': '[]( 8\\n\\nJD Vance\\n\\nVICE PRESIDENT OF THE UNITED STATES\\n\\n[]( 9\\n\\nMelania Trump\\n\\nFirst Lady OF THE UNITED STATES\\n\\n[]( 10\\n\\nThe Cabinet\\n\\nOf the 47th Administration\\n\\n[]( 11: President Trump Executive Order Signing\\n\\nExecutive Actions\\n\\n[]( 12: President Trump and First Lady Melania Trump\\n\\nNews\\n\\nImage 13: Donald J. Trump\\n\\nOUR PRIORITIES [...] Search for: Press Enter to Search\\n\\nImage 2: President Trump Liberation Day\\n\\nAmerica is Back\\n\\nView the list of private and foreign investments fueling American jobs and innovation »\\n\\nImage 3: President Trump Medal of Honor Recipients\\n\\nHonoring our Vets\\n\\nImage 4: President Trump Cabinet Meeting\\n\\nThe work never stops\\n\\nNext slide\\n\\nPrevious slide\\n\\nImage 5Image 6\\n\\n The Administration \\n\\n[]( 7: President Donald J. Trump Official Presidential Portrait\\n\\nDonald J. Trump\\n\\nPresident of the United States [...] Menu\\n\\nPresident Donald J. Trump\\n\\nThe White House\\n\\nSearch\\n\\nImage 1\\n\\n   News\\n       Back\\n       Articles\\n       Briefings & Statements\\n       Fact Sheets\\n       Presidential Actions\\n           Back\\n           Executive Orders\\n           Nominations & Appointments\\n           Presidential Memoranda\\n           Proclamations\\n\\n       Remarks\\n\\n   Administration\\n       Back\\n       Donald J. Trump\\n       JD Vance\\n       Melania Trump\\n       Usha Vance\\n       The Cabinet',\n",
       "  'score': 0.20721509},\n",
       " {'title': 'President Donald J. Trump - The White House',\n",
       "  'url': 'https://www.whitehouse.gov/administration/donald-j-trump/',\n",
       "  'content': 'Get in Touch\\n       Back\\n       Contact\\n       Visit\\n       Internships\\n\\n   X\\n   Instagram\\n   Facebook\\n\\nSearch for: Press Enter to Search\\n\\nAdministration\\n\\nDonald J. Trump\\n\\n45th & 47th President of the United States\\n\\nImage 2: President Donald J. Trump Official Presidential Portrait [...] ### Subscribe to The White House newsletter\\n\\nPlease leave blank. \\n\\n Text POTUS to 45470 to receive updates \\n\\nThe White House 1600 Pennsylvania Ave NW\\n\\n Washington, DC 20500 \\n\\n   X\\n   Instagram\\n   Facebook\\n\\nWH.GOV\\n\\n   Copyright\\n   Privacy\\n\\nBack to top [...] After a landslide election victory in 2024, President Donald J. Trump is returning to the White House to build upon his previous successes and use his mandate to reject the extremist policies of the radical left while providing tangible quality of life improvements for the American people.',\n",
       "  'score': 0.20678227}]"
      ]
     },
     "execution_count": 33,
     "metadata": {},
     "output_type": "execute_result"
    }
   ],
   "source": [
    "tool(\"Who is the cureent president of the United States?\")"
   ]
  },
  {
   "cell_type": "code",
   "execution_count": 34,
   "id": "c7f0bcb8",
   "metadata": {},
   "outputs": [
    {
     "data": {
      "text/plain": [
       "'tavily_search_results_json'"
      ]
     },
     "execution_count": 34,
     "metadata": {},
     "output_type": "execute_result"
    }
   ],
   "source": [
    "tool.name"
   ]
  },
  {
   "cell_type": "code",
   "execution_count": 70,
   "id": "022282f2",
   "metadata": {},
   "outputs": [],
   "source": [
    "class AgentState(TypedDict):\n",
    "    messages:Annotated[list[AnyMessage], operator.add]"
   ]
  },
  {
   "cell_type": "code",
   "execution_count": 142,
   "id": "787083c0",
   "metadata": {},
   "outputs": [],
   "source": [
    "class Agent:\n",
    "\n",
    "    def __init__(self, state:AgentState, tools, system_msg=\"\", model_name=\"llama-3.1-8b-instant\"):\n",
    "        self.system_msg = system_msg\n",
    "        self.graph = StateGraph(state)\n",
    "        self.model = ChatGroq(model=model_name)\n",
    "        self.model_name = model_name\n",
    "        self.graph.add_node(\"llm\", self.call_llm)\n",
    "        self.graph.add_node(\"action\", self.action)\n",
    "        self.graph.set_entry_point(\"llm\")\n",
    "        self.graph.add_edge(\"action\", \"llm\")\n",
    "        self.graph.add_conditional_edges(\n",
    "            \"llm\",\n",
    "            self.continue_action,\n",
    "            {True:\"action\", False: END}\n",
    "        )\n",
    "        self.graph = self.graph.compile()\n",
    "        \n",
    "        self.tools = {t.name: t for t in tools}\n",
    "        #self.model = self.model.bind_tools(self.tools)\n",
    "        self.model = self.model.bind_tools(list(self.tools.values()))\n",
    "\n",
    "    def call_llm(self, state:AgentState)->AgentState:\n",
    "        messages = state['messages']\n",
    "        if self.system_msg:\n",
    "            messages = [SystemMessage(content= self.system_msg)] + messages \n",
    "        res = self.model.invoke(messages)\n",
    "        return {'messages':[res]}\n",
    "    def continue_action(self, state:AgentState):\n",
    "\n",
    "        last_res = state['messages'][-1]\n",
    "        return len (last_res.tool_calls) > 0\n",
    "    def action(self,state:AgentState)->AgentState:\n",
    "        last_res = state['messages'][-1]\n",
    "        tool_result = []\n",
    "        print(last_res.tool_calls)\n",
    "\n",
    "        for tool_call in last_res.tool_calls:\n",
    "            print(f\"Calling tool {tool_call['name']} with args {tool_call['args']}\")\n",
    "            if tool_call['name'] in self.tools:\n",
    "                res = self.tools[tool_call['name']].invoke(tool_call['args']['query'])\n",
    "                #content=json.dumps(res, ensure_ascii=False)  # or str(res)\n",
    "                print(f\"Tool result: {str(res)}\")\n",
    "                tool_result.append(ToolMessage(content=str(res), name=tool_call['name'], tool_call_id = tool_call['id']))\n",
    "            else:\n",
    "                print(\"Tool not foun\")\n",
    "                tool_result.append(ToolMessage(content=f\"Tool {tool_call.name} not found\", tool_call=tool_call))\n",
    "        return {'messages': tool_result}\n"
   ]
  },
  {
   "cell_type": "code",
   "execution_count": 143,
   "id": "1ea4c376",
   "metadata": {},
   "outputs": [
    {
     "data": {
      "text/plain": [
       "'tavily_search_results_json'"
      ]
     },
     "execution_count": 143,
     "metadata": {},
     "output_type": "execute_result"
    }
   ],
   "source": [
    "tool.name"
   ]
  },
  {
   "cell_type": "code",
   "execution_count": 144,
   "id": "21b407ae",
   "metadata": {},
   "outputs": [],
   "source": [
    "tools = [tool]\n"
   ]
  },
  {
   "cell_type": "code",
   "execution_count": 145,
   "id": "f9a36b52",
   "metadata": {},
   "outputs": [
    {
     "data": {
      "text/plain": [
       "'tavily_search_results_json'"
      ]
     },
     "execution_count": 145,
     "metadata": {},
     "output_type": "execute_result"
    }
   ],
   "source": [
    "tools[0].name"
   ]
  },
  {
   "cell_type": "code",
   "execution_count": 146,
   "id": "239a4f38",
   "metadata": {},
   "outputs": [],
   "source": [
    "agent = Agent(AgentState, tools, system_msg=\"You are a helpful AI assistant.\", model_name=\"llama-3.1-8b-instant\")"
   ]
  },
  {
   "cell_type": "code",
   "execution_count": 147,
   "id": "b831231e",
   "metadata": {},
   "outputs": [
    {
     "data": {
      "image/png": "[encoded data removed]",
      "text/plain": [
       "<IPython.core.display.Image object>"
      ]
     },
     "metadata": {},
     "output_type": "display_data"
    }
   ],
   "source": [
    "display(Image(agent.graph.get_graph().draw_mermaid_png()))"
   ]
  },
  {
   "cell_type": "code",
   "execution_count": 148,
   "id": "9c2d2494",
   "metadata": {},
   "outputs": [],
   "source": [
    "messages = [HumanMessage(content=\"What is the current weather in sf?\")]\n"
   ]
  },
  {
   "cell_type": "code",
   "execution_count": 149,
   "id": "30c1162f",
   "metadata": {},
   "outputs": [
    {
     "name": "stdout",
     "output_type": "stream",
     "text": [
      "[{'name': 'tavily_search_results_json', 'args': {'query': 'sf current weather'}, 'id': 'nv5bn8q5y', 'type': 'tool_call'}]\n",
      "Calling tool tavily_search_results_json with args {'query': 'sf current weather'}\n",
      "Tool result: [{'title': 'San Francisco Bay Area, CA - National Weather Service', 'url': 'https://www.weather.gov/mtr/', 'content': '+ Local\\n  + Drought\\n  + National\\n Local Programs\\n\\n  + Additional Information\\n  + Weather Ready Nation\\n  + Local SKYWARN\\n  + Storm Summary Archive\\n  + Post Wildfire Debris Flow\\n  + Partial County Alerting for Sonoma County\\n\\nClick a location below for detailed forecast.\\n\\nLast Map Update: Mon, Oct 13, 2025 at 1:16:37 pm PDT\\n\\nWatches, Warnings & Advisories\\n\\nZoom Out\\n\\nWinter Storm Warning\\n\\nGale Warning\\n\\nWinter Weather Advisory\\n\\nSmall Craft Advisory\\n\\nFlood Watch\\n\\nMarine Weather Statement [...] In addition to the rain, isolated thunderstorms are possible Monday - Tuesday. The greatest hazard is lightning strikes and heavy rain, although strong wind gusts and small hail are also possible.\\n\\nRead More...\\n\\nA deep low pressure system brings a chance for thunderstorms across the coastal waters and the bays Monday morning through Tuesday afternoon. Hazards include lightning, heavy rain causing reduced visibility, small hail, and waterspouts. Remain in port or safe shelter if possible! #CAwx [...] A coastal storm continues to bring heavy rain, coastal flooding, high surf, dangerous rip currents, and gusty winds to the East Coast into early Tuesday. A heavy rain and flash flood risk continues for the Southwest/Four Corners region with lingering tropical moisture through Monday. Typhoon remnants are causing strong winds, heavy rain, and coastal flooding across western Alaska through Monday. Read More >\\n\\nLOADING...\\n\\nSan Francisco Bay Area, CA\\n\\nWeather Forecast Office', 'score': 0.8047902}, {'title': 'Downtown, San Francisco, California - The Weather Channel', 'url': 'https://weather.com/weather/today/l/USCA0987:1:US', 'content': \"© The Weather Company, LLC 2025 [...] # 10 Day Weather-Downtown, San Francisco, California\\n\\n## Today\\n\\n## Day\\n\\nRain likely. High 63F. Winds SW at 10 to 20 mph. Chance of rain 100%. Rainfall near a half an inch.\\n\\n## Night\\n\\nRain early. Decreasing clouds overnight. Low 51F. Winds NE at 5 to 10 mph. Chance of rain 70%.\\n\\n## Tue 14\\n\\n## Day\\n\\nCloudy. High 62F. Winds N at 5 to 10 mph.\\n\\n## Night\\n\\nRain showers early with overcast skies late. Low 54F. Winds SW at 5 to 10 mph. Chance of rain 40%.\\n\\n## Wed 15\\n\\n## Day [...] Mostly cloudy skies early will become partly cloudy later in the day. High around 65F. Winds NNE at 5 to 10 mph.\\n\\n## Night\\n\\nMostly clear skies. Low 52F. Winds NNW at 5 to 10 mph.\\n\\n## Thu 16\\n\\n## Day\\n\\nSome clouds in the morning will give way to mainly sunny skies for the afternoon. High near 65F. Winds NW at 10 to 15 mph.\\n\\n## Night\\n\\nClear skies early will give way to low clouds and fog after midnight. Low 53F. Winds W at 5 to 10 mph.\\n\\n## Seasonal Hub\\n\\n## Lonely Planet\\n\\n## Editor's Pick\", 'score': 0.55767727}, {'title': 'First Alert Weather Monday morning forecast 10-13-25 - CBS News', 'url': 'https://www.cbsnews.com/sanfrancisco/video/first-alert-weather-monday-morning-forecast-10-13-25/', 'content': \"# First Alert Weather Monday morning forecast 10-13-25\\n\\nA significant, early-season storm is on its way to California.\\n\\nView CBS News In\\n\\nCBS News App  Open\\n\\nChrome     Safari  Continue [...] Bay Area Top News\\n SF/Peninsula News\\n East Bay News\\n South Bay News\\n North Bay News\\n Bay Area Crime\\n Tech\\n Health\\n Politics\\n LGBTQ\\n Entertainment\\n KPIX Special Reports\\n\\n First Alert Weather\\n Radars & Maps\\n\\n All Sports\\n CBS Sports HQ\\n San Francisco 49ers\\n San Francisco Giants\\n Golden State Warriors\\n Oakland Athletics\\n San Jose Sharks\\n Cal\\n Stanford\\n College Sports\\n\\n Station Info\\n KPIX\\n What's On KPIX\\n Contests & Promotions\\n Advertise With Us\\n Contact Us\\n Download the App\\n Galleries\\n Memorials\", 'score': 0.35246974}, {'title': 'Live Doppler 7 | Bay Area Weather News - ABC7 San Francisco', 'url': 'https://abc7news.com/weather/', 'content': \"## Government Shutdown\\n\\n## Price Tracker\\n\\n## 'A Mother's Hope'\\n\\n## A Driverless Tomorrow\\n\\n## Today's Forecast\\n\\n## Live\\n\\n## Weather Conditions\\n\\n## SF Bay Area Live Cameras\\n\\n## I-Team Investigations\\n\\n## 7 On Your Side\\n\\n## Weather\\n\\n## Building A Better Bay Area\\n\\n# AccuWeather\\n\\nloader\\n\\nNorthern California\\n\\nBy providing my email address, I agree to the Terms of Use and acknowledge that I have read the Privacy Policy.\\n\\nfacebook\\ntwitter\\ninstagram\\nemail [...] Lisa Argen\\ntwitter\\nfacebook\\nSpencer Christian\\ntwitter\\nfacebook\\nSandhya Patel\\ntwitter\\nfacebook\\nDrew Tuma\\ntwitter\\nfacebook\\nABC7 San Francisco\", 'score': 0.15699492}]\n"
     ]
    }
   ],
   "source": [
    "result = agent.graph.invoke({'messages': messages})"
   ]
  },
  {
   "cell_type": "code",
   "execution_count": 150,
   "id": "84436e60",
   "metadata": {},
   "outputs": [
    {
     "data": {
      "text/plain": [
       "'The current weather in San Francisco is rainy with a high of 63F and a low of 51F. There is a chance of thunderstorms across the coastal waters and the bays on Monday and Tuesday, with hazards including lightning, heavy rain, small hail, and waterspouts.'"
      ]
     },
     "execution_count": 150,
     "metadata": {},
     "output_type": "execute_result"
    }
   ],
   "source": [
    "result['messages'][-1].content"
   ]
  },
  {
   "cell_type": "code",
   "execution_count": 154,
   "id": "4f382398",
   "metadata": {},
   "outputs": [
    {
     "name": "stdout",
     "output_type": "stream",
     "text": [
      "[{'name': 'tavily_search_results_json', 'args': {'query': 'current temperature in San Francisco'}, 'id': '9f9g4at65', 'type': 'tool_call'}]\n",
      "Calling tool tavily_search_results_json with args {'query': 'current temperature in San Francisco'}\n",
      "Tool result: [{'title': 'October 2025 Weather History in San Francisco California, United ...', 'url': 'https://weatherspark.com/h/m/557/2025/10/Historical-Weather-in-October-2025-in-San-Francisco-California-United-States', 'content': 'History:JFMAMJJASOctND2024202320222021  Hourly Temperature in October 2025 in San Francisco18152229112233445566778899101011111212131312 AM12 AM3 AM3 AM6 AM6 AM9 AM9 AM12 PM12 PM3 PM3 PM6 PM6 PM9 PM9 PM12 AM12 AMSepNovNowNowcoolcomfortable  frigid   15°F   freezing   32°F   very cold   45°F   cold   55°F   cool   65°F   comfortable   75°F   warm   85°F   hot   95°F   sweltering  The hourly reported temperature, color coded into bands. The shaded overlays indicate night and civil twilight.  © [...] Francisco18152229112233445566778899101011111212131345°F45°F50°F50°F55°F55°F60°F60°F65°F65°F70°F70°F75°F75°F80°F80°F85°F85°FSepNovNowNow  The daily range of reported temperatures (gray bars) and 24-hour highs (red ticks) and lows (blue ticks), placed over the daily average high (faint red line) and low (faint blue line) temperature, with 25th to 75th and 10th to 90th percentile bands.  Hourly Temperature in October 2025 in San Francisco Fall 2025  Link  Download  Compare  Averages [...] Temp.  61.0°F cool   |  |  |  --- | | Dew Pt. | 54.0°F  dry | | Rel. Humidity | 78% |  Precipitation - last 1 hr  0.00 in  Wind  15.0 mph moderate breeze   |  |  |  --- | | Wind Dir. | 220 deg, SW |  Cloud Cover  Overcast   5,000 ft   |  |  | Mostly Cloudy 2,900 ft |   |  |  |  --- | | Vis. | 10.00 mi or greater | | Alt. | 29.64 inHg |  Raw: KSFO 131956Z 22013KT 10SM -RA BKN029 OVC050 16/12 A2964 RMK AO2 RAB52 SLP037 P0000 T01610122 $  This report shows the past weather for San Francisco,', 'score': 0.64128816}, {'title': '10-Day Weather Forecast for Downtown, San Francisco, California', 'url': 'https://weather.com/weather/tenday/l/San+Francisco+CA+USCA0987:1:US', 'content': \"A few clouds. Low around 55F. Winds W at 5 to 10 mph.\\n\\n## Sun 19\\n\\n## Day\\n\\nPartly cloudy skies. High 67F. Winds WSW at 10 to 20 mph.\\n\\n## Night\\n\\nA few clouds. Low 53F. Winds NW at 10 to 15 mph.\\n\\n## Mon 20\\n\\n## Day\\n\\nSunny. High 69F. Winds NW at 10 to 15 mph.\\n\\n## Night\\n\\nMostly clear skies. Low 53F. Winds NNW at 5 to 10 mph.\\n\\n## Tue 21\\n\\n## Day\\n\\nA few passing clouds, otherwise generally sunny. High 68F. NE winds shifting to WNW at 10 to 15 mph.\\n\\n## Night [...] Mainly clear skies. Low 53F. Winds NNW at 5 to 10 mph.\\n\\n## Wed 22\\n\\n## Day\\n\\nAbundant sunshine. High 71F. NE winds shifting to WNW at 10 to 15 mph.\\n\\n## Night\\n\\nPartly cloudy skies. Low 53F. Winds NW at 5 to 10 mph.\\n\\n## Thu 23\\n\\n## Day\\n\\nPartly cloudy skies. High around 70F. Winds NNW at 5 to 10 mph.\\n\\n## Night\\n\\nMostly clear skies. Low 53F. Winds WNW at 5 to 10 mph.\\n\\n## Fri 24\\n\\n## Day\\n\\nMostly sunny skies. High 69F. Winds W at 10 to 15 mph.\\n\\n## Night\\n\\nA few clouds. Low 54F. Winds W at 5 to 10 mph. [...] ## Sat 25\\n\\n## Day\\n\\nCloudy with a few showers. High 69F. Winds WSW at 10 to 15 mph. Chance of rain 30%.\\n\\n## Night\\n\\nPartly cloudy. Low 54F. Winds W at 5 to 10 mph.\\n\\n## Sun 26\\n\\n## Day\\n\\nPartly cloudy skies. High 69F. Winds WSW at 10 to 15 mph.\\n\\n## Night\\n\\nPartly cloudy. Low 54F. Winds WNW at 5 to 10 mph.\\n\\n## Mon 27\\n\\n## Day\\n\\nMostly sunny skies. High 69F. Winds SW at 10 to 15 mph.\\n\\n## Night\\n\\nMostly clear skies. Low 53F. Winds WNW at 5 to 10 mph.\\n\\n## Don't Miss\\n\\n## Radar\\n\\n## Lonely Planet\", 'score': 0.5863576}, {'title': 'Weather in San Francisco in October 2025 (California)', 'url': 'https://world-weather.info/forecast/usa/san_francisco/october-2025/', 'content': \"Add the current city\\n\\n Weather\\n Archive\\n Weather Widget\\n\\n World\\n United States\\n California\\n Weather in San Francisco\\n\\n# Weather in San Francisco in October 2025\\n\\nSan Francisco Weather Forecast for October 2025 is based on long term prognosis and previous years' statistical data.\\n\\n201520162017201820192020202120222023202420252026\\n\\nJanFebMarAprMayJunJulAugSepOctNovDec\\n\\n## October\\n\\nStart Week On\\n\\n Sun\\n Mon\\n Tue\\n Wed\\n Thu\\n Fri\\n Sat\\n\\n +70°\\n\\n  6.3 mph S 30 inHg77 %07:05 am06:52 pm\\n 2\\n\\n  +66°\\n\\n  +64° [...] +55°\\n\\n  2.2 mph NE 29.9 inHg82 %07:21 am06:27 pm\\n 19\\n\\n  +64°\\n\\n  +55°\\n\\n  17 mph SW 29.9 inHg62 %07:22 am06:26 pm\\n 20\\n\\n  +63°\\n\\n  +55°\\n\\n  19.5 mph W 29.8 inHg61 %07:23 am06:25 pm\\n 21\\n\\n  +63°\\n\\n  +54°\\n\\n  17.9 mph W 30 inHg66 %07:24 am06:23 pm\\n 22\\n\\n  +63°\\n\\n  +52°\\n\\n  1.1 mph NE 30 inHg85 %07:25 am06:22 pm\\n 23\\n\\n  +66°\\n\\n  +55°\\n\\n  5.1 mph W 30 inHg45 %07:26 am06:21 pm\\n 24\\n\\n  +64°\\n\\n  +63°\\n\\n  7.6 mph NE 30.1 inHg44 %07:27 am06:20 pm\\n 25\\n\\n  +66°\\n\\n  +61°\\n\\n  7.8 mph W 30 inHg53 %07:28 am06:18 pm\\n 26 [...] 3.6 mph W 29.9 inHg78 %07:13 am06:39 pm\\n 11\\n\\n  +66°\\n\\n  +59°\\n\\n  20.8 mph W 29.9 inHg58 %07:14 am06:37 pm\\n 12\\n\\n  +64°\\n\\n  +55°\\n\\n  21.3 mph W 29.8 inHg62 %07:15 am06:36 pm\\n 13\\n\\n  +59°\\n\\n  +57°\\n\\n  16.1 mph SW 29.5 inHg81 %07:16 am06:34 pm\\n 14\\n\\n  +61°\\n\\n  +52°\\n\\n  2.7 mph SE 29.6 inHg80 %07:17 am06:33 pm\\n 15\\n\\n  +64°\\n\\n  +54°\\n\\n  10.7 mph W 30 inHg63 %07:18 am06:32 pm\\n 16\\n\\n  +63°\\n\\n  +54°\\n\\n  16.8 mph W 30 inHg66 %07:19 am06:30 pm\\n 17\\n\\n  +68°\\n\\n  +54°\\n\\n  11.2 mph W 29.9 inHg63 %07:20 am06:29 pm\\n 18\\n\\n  +70°\", 'score': 0.54985875}, {'title': 'San Francisco, CA Monthly Weather - AccuWeather', 'url': 'https://www.accuweather.com/en/us/san-francisco/94103/october-weather/347629', 'content': '# San Francisco, CA\\n\\nSan Francisco\\n\\nCalifornia\\n\\n## Around the Globe\\n\\nAround the Globe\\n\\n### Hurricane Tracker\\n\\n### Severe Weather\\n\\n### Radar & Maps\\n\\n### News & Features\\n\\n### Astronomy\\n\\n### Business\\n\\n### Climate\\n\\n### Health\\n\\n### Recreation\\n\\n### Sports\\n\\n### Travel\\n\\n### Warnings\\n\\n### Data Suite\\n\\n### Forensics\\n\\n### Advertising\\n\\n### Superior Accuracy™\\n\\n### Video\\n\\n### Winter Center\\n\\n## Monthly\\n\\n## October\\n\\n## 2025\\n\\n## Daily\\n\\n## Temperature Graph\\n\\n## Further Ahead\\n\\nFurther Ahead\\n\\n### November 2025', 'score': 0.25478512}]\n"
     ]
    }
   ],
   "source": [
    "messages = [HumanMessage(content=\"What is the current tempareture in sf?\")]\n",
    "result = agent.graph.invoke({'messages': messages})"
   ]
  },
  {
   "cell_type": "code",
   "execution_count": 155,
   "id": "4fa9e6e7",
   "metadata": {},
   "outputs": [
    {
     "data": {
      "text/plain": [
       "'The current temperature in San Francisco is around 61.0°F (15.6°C).'"
      ]
     },
     "execution_count": 155,
     "metadata": {},
     "output_type": "execute_result"
    }
   ],
   "source": [
    "result['messages'][-1].content"
   ]
  },
  {
   "cell_type": "code",
   "execution_count": null,
   "id": "dec8be1e",
   "metadata": {},
   "outputs": [],
   "source": []
  },
  {
   "cell_type": "code",
   "execution_count": null,
   "id": "f1ed5a5b",
   "metadata": {},
   "outputs": [],
   "source": []
  }
 ],
 "metadata": {
  "kernelspec": {
   "display_name": "ml",
   "language": "python",
   "name": "ml"
  },
  "language_info": {
   "codemirror_mode": {
    "name": "ipython",
    "version": 3
   },
   "file_extension": ".py",
   "mimetype": "text/x-python",
   "name": "python",
   "nbconvert_exporter": "python",
   "pygments_lexer": "ipython3",
   "version": "3.11.6"
  }
 },
 "nbformat": 4,
 "nbformat_minor": 5
}
