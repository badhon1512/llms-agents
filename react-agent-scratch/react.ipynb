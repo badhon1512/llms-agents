{
 "cells": [
  {
   "cell_type": "markdown",
   "id": "3bd26c66",
   "metadata": {},
   "source": [
    "### React Agent from Scratch\n",
    "\n",
    "In this notebook, I’m building a simple ReAct (Reason + Act) agent from scratch.  \n",
    "The main idea is to let the model think, call tools when needed, and then use the results to give a final answer.\n",
    "\n",
    "I’ll create:\n",
    "- a small `ReactAgent` class to talk with the LLM  \n",
    "- a few basic tools like `find_disease` and `suggest_medicine`  \n",
    "- and a loop that checks if the model wants to call a tool, runs it, and sends the result back\n",
    "\n",
    "This is just a basic example to show how the ReAct process works — nothing fancy, just the main idea written in plain Python.\n"
   ]
  },
  {
   "cell_type": "markdown",
   "id": "b46cad21",
   "metadata": {},
   "source": [
    "Paper Link : https://arxiv.org/abs/2210.03629"
   ]
  },
  {
   "cell_type": "code",
   "execution_count": 10,
   "id": "ee9f11d1",
   "metadata": {},
   "outputs": [],
   "source": [
    "import os\n",
    "from dotenv import load_dotenv\n",
    "from groq import Groq\n"
   ]
  },
  {
   "cell_type": "code",
   "execution_count": 5,
   "id": "2db14760",
   "metadata": {},
   "outputs": [
    {
     "data": {
      "text/plain": [
       "True"
      ]
     },
     "execution_count": 5,
     "metadata": {},
     "output_type": "execute_result"
    }
   ],
   "source": [
    "load_dotenv()"
   ]
  },
  {
   "cell_type": "markdown",
   "id": "2b997f34",
   "metadata": {},
   "source": [
    "## A React Prompt"
   ]
  },
  {
   "cell_type": "code",
   "execution_count": 151,
   "id": "a386416c",
   "metadata": {},
   "outputs": [],
   "source": [
    "prompt = \"\"\"\n",
    "You are a ReAct-style reasoning agent. Your goal is to think step-by-step and perform actions using available tools to help the user.\n",
    "\n",
    "# Goals\n",
    "- Understand the user query.\n",
    "- Reason internally (do not reveal reasoning).\n",
    "- Call a tool if needed using proper arguments.\n",
    "- Observe tool results.\n",
    "- Continue reasoning until you can produce a final answer.\n",
    "- Return the final answer clearly.\n",
    "- If the user query is normal, response accordingly\n",
    "\n",
    "# Tool Usage\n",
    "You can use the following tools (names are case-sensitive):\n",
    "\n",
    "1. find_disease\n",
    "   - Description: Detects the most likely disease from a user's symptom text.\n",
    "   - Parameters:\n",
    "       • text (str): User symptom description.\n",
    "\n",
    "2. suggest_medicine\n",
    "   - Description: Suggests suitable medicines or home remedies for a detected disease.\n",
    "   - Parameters:\n",
    "       • disease (str): The disease name for which medicine suggestions are needed.\n",
    "\n",
    "# Tool Call Format\n",
    "When you need to use a tool, respond *only* with a JSON object like this, enclosed in a fenced block:\n",
    "\n",
    "```tool_call\n",
    "{\"tool\": \"<TOOL_NAME>\", \"args\": {\"param1\": \"value1\", \"param2\": \"value2\"}}\n",
    "\"\"\"\n"
   ]
  },
  {
   "cell_type": "code",
   "execution_count": 152,
   "id": "fa780164",
   "metadata": {},
   "outputs": [],
   "source": [
    "class ReactAgent():\n",
    "    def __init__(self, system=None):\n",
    "        self.messages = []\n",
    "        self.client = Groq()\n",
    "        self.model_name=\"llama-3.1-8b-instant\"\n",
    "        if system is None:\n",
    "            self.messages.append({\"role\": \"system\", \"content\": prompt})\n",
    "        else:\n",
    "            self.messages.append({\"role\": \"system\", \"content\": system})\n",
    "\n",
    "\n",
    "    \n",
    "    def chat(self, request:str):\n",
    "\n",
    "        self.messages.append({\"role\":\"user\", \"content\":request})\n",
    "        res = client.chat.completions.create(\n",
    "        model = self.model_name,\n",
    "        messages=self.messages\n",
    "        )\n",
    "        self.messages.append({\"role\":\"assistant\", \"content\":res.choices[0].message.content})\n",
    "        return res.choices[0].message.content\n"
   ]
  },
  {
   "cell_type": "markdown",
   "id": "cdbcdd52",
   "metadata": {},
   "source": [
    "## Calling agent - normal usecase"
   ]
  },
  {
   "cell_type": "code",
   "execution_count": 216,
   "id": "07073c26",
   "metadata": {},
   "outputs": [
    {
     "data": {
      "text/plain": [
       "'Hello. How can I assist you today?'"
      ]
     },
     "execution_count": 216,
     "metadata": {},
     "output_type": "execute_result"
    }
   ],
   "source": [
    "agent = ReactAgent()\n",
    "agent.chat(\"HI\")"
   ]
  },
  {
   "cell_type": "code",
   "execution_count": 217,
   "id": "bb67ae54",
   "metadata": {},
   "outputs": [
    {
     "data": {
      "text/plain": [
       "[{'role': 'system',\n",
       "  'content': '\\nYou are a ReAct-style reasoning agent. Your goal is to think step-by-step and perform actions using available tools to help the user.\\n\\n# Goals\\n- Understand the user query.\\n- Reason internally (do not reveal reasoning).\\n- Call a tool if needed using proper arguments.\\n- Observe tool results.\\n- Continue reasoning until you can produce a final answer.\\n- Return the final answer clearly.\\n- If the user query is normal, response accordingly\\n\\n# Tool Usage\\nYou can use the following tools (names are case-sensitive):\\n\\n1. find_disease\\n   - Description: Detects the most likely disease from a user\\'s symptom text.\\n   - Parameters:\\n       • text (str): User symptom description.\\n\\n2. suggest_medicine\\n   - Description: Suggests suitable medicines or home remedies for a detected disease.\\n   - Parameters:\\n       • disease (str): The disease name for which medicine suggestions are needed.\\n\\n# Tool Call Format\\nWhen you need to use a tool, respond *only* with a JSON object like this, enclosed in a fenced block:\\n\\n```tool_call\\n{\"tool\": \"<TOOL_NAME>\", \"args\": {\"param1\": \"value1\", \"param2\": \"value2\"}}\\n'},\n",
       " {'role': 'user', 'content': 'HI'},\n",
       " {'role': 'assistant', 'content': 'Hello. How can I assist you today?'}]"
      ]
     },
     "execution_count": 217,
     "metadata": {},
     "output_type": "execute_result"
    }
   ],
   "source": [
    "agent.messages"
   ]
  },
  {
   "cell_type": "code",
   "execution_count": 218,
   "id": "bc30e4fa",
   "metadata": {},
   "outputs": [
    {
     "data": {
      "text/plain": [
       "'Nice to meet you, Badhon. What brings you here today? Do you have any questions or would you like to chat?'"
      ]
     },
     "execution_count": 218,
     "metadata": {},
     "output_type": "execute_result"
    }
   ],
   "source": [
    "agent.chat(\"My Name is Badhon\")"
   ]
  },
  {
   "cell_type": "code",
   "execution_count": 219,
   "id": "752b9598",
   "metadata": {},
   "outputs": [
    {
     "data": {
      "text/plain": [
       "'Your name is Badhon.'"
      ]
     },
     "execution_count": 219,
     "metadata": {},
     "output_type": "execute_result"
    }
   ],
   "source": [
    "agent.chat(\"What is my name?\")"
   ]
  },
  {
   "cell_type": "code",
   "execution_count": 220,
   "id": "6b26a884",
   "metadata": {},
   "outputs": [
    {
     "data": {
      "text/plain": [
       "[{'role': 'system',\n",
       "  'content': '\\nYou are a ReAct-style reasoning agent. Your goal is to think step-by-step and perform actions using available tools to help the user.\\n\\n# Goals\\n- Understand the user query.\\n- Reason internally (do not reveal reasoning).\\n- Call a tool if needed using proper arguments.\\n- Observe tool results.\\n- Continue reasoning until you can produce a final answer.\\n- Return the final answer clearly.\\n- If the user query is normal, response accordingly\\n\\n# Tool Usage\\nYou can use the following tools (names are case-sensitive):\\n\\n1. find_disease\\n   - Description: Detects the most likely disease from a user\\'s symptom text.\\n   - Parameters:\\n       • text (str): User symptom description.\\n\\n2. suggest_medicine\\n   - Description: Suggests suitable medicines or home remedies for a detected disease.\\n   - Parameters:\\n       • disease (str): The disease name for which medicine suggestions are needed.\\n\\n# Tool Call Format\\nWhen you need to use a tool, respond *only* with a JSON object like this, enclosed in a fenced block:\\n\\n```tool_call\\n{\"tool\": \"<TOOL_NAME>\", \"args\": {\"param1\": \"value1\", \"param2\": \"value2\"}}\\n'},\n",
       " {'role': 'user', 'content': 'HI'},\n",
       " {'role': 'assistant', 'content': 'Hello. How can I assist you today?'},\n",
       " {'role': 'user', 'content': 'My Name is Badhon'},\n",
       " {'role': 'assistant',\n",
       "  'content': 'Nice to meet you, Badhon. What brings you here today? Do you have any questions or would you like to chat?'},\n",
       " {'role': 'user', 'content': 'What is my name?'},\n",
       " {'role': 'assistant', 'content': 'Your name is Badhon.'}]"
      ]
     },
     "execution_count": 220,
     "metadata": {},
     "output_type": "execute_result"
    }
   ],
   "source": [
    "agent.messages"
   ]
  },
  {
   "cell_type": "markdown",
   "id": "4f0c0fa0",
   "metadata": {},
   "source": [
    "## React Agent"
   ]
  },
  {
   "cell_type": "markdown",
   "id": "54d536cb",
   "metadata": {},
   "source": [
    "### A simple tool to check if any diseases can be detected from the user’s text\n",
    "\n"
   ]
  },
  {
   "cell_type": "code",
   "execution_count": 221,
   "id": "6f46c288",
   "metadata": {},
   "outputs": [],
   "source": [
    "symptom_keywords = {\n",
    "            \"common_cold\": {\"runny nose\", \"stuffy nose\", \"sneezing\", \"sore throat\", \"cough\", \"mild fever\", \"fatigue\"},\n",
    "            \"influenza\": {\"high fever\", \"chills\", \"body aches\", \"headache\", \"dry cough\", \"fatigue\"},\n",
    "            \"strep_throat\": {\"severe sore throat\", \"pain swallowing\", \"swollen tonsils\", \"white patches\", \"fever\", \"no cough\"},\n",
    "            \"migraine\": {\"throbbing headache\", \"nausea\", \"light sensitivity\", \"sound sensitivity\", \"unilateral headache\"},\n",
    "            \"acid_reflux\": {\"heartburn\", \"chest burning\", \"acid taste\", \"regurgitation\", \"worse after meals\", \"worse lying down\"},\n",
    "            \"allergic_rhinitis\": {\"sneezing\", \"itchy eyes\", \"watery eyes\", \"runny nose\", \"seasonal\", \"pollen\"},\n",
    "            \"covid_19\": {\"fever\", \"dry cough\", \"loss of smell\", \"loss of taste\", \"shortness of breath\", \"fatigue\", \"sore throat\"},\n",
    "            \"gastroenteritis\": {\"diarrhea\", \"vomiting\", \"nausea\", \"stomach cramps\", \"low-grade fever\"},\n",
    "        }"
   ]
  },
  {
   "cell_type": "code",
   "execution_count": 222,
   "id": "2df53737",
   "metadata": {},
   "outputs": [],
   "source": [
    "def find_disease(text:str)->str:\n",
    "\n",
    "    cache:dict()={}\n",
    "\n",
    "    for diseases, symptoms in symptom_keywords.items():\n",
    "        cache[diseases]=0\n",
    "        for symptom in symptoms:\n",
    "            if symptom in text:\n",
    "                cache[diseases] +=1\n",
    "    best_match = max(cache, key=cache.get)\n",
    "    max_count = cache[best_match]\n",
    "\n",
    "    if max_count == 0:\n",
    "        return \"No matching disease found.\"\n",
    "\n",
    "    return best_match\n"
   ]
  },
  {
   "cell_type": "code",
   "execution_count": 223,
   "id": "fe7390db",
   "metadata": {},
   "outputs": [
    {
     "data": {
      "text/plain": [
       "'gastroenteritis'"
      ]
     },
     "execution_count": 223,
     "metadata": {},
     "output_type": "execute_result"
    }
   ],
   "source": [
    "find_disease(\"I have diarrhea dry cough vomiting\")"
   ]
  },
  {
   "cell_type": "markdown",
   "id": "23a5b3de",
   "metadata": {},
   "source": [
    "### A Tool to Suggest Possible Medicines\n"
   ]
  },
  {
   "cell_type": "code",
   "execution_count": 224,
   "id": "31c0e0b1",
   "metadata": {},
   "outputs": [],
   "source": [
    "medicine_suggestions = {\n",
    "    \"common_cold\": [\"Paracetamol for fever\", \"Cough syrup\", \"Rest and drink plenty of fluids\"],\n",
    "    \"influenza\": [\"Paracetamol or Ibuprofen\", \"Plenty of rest\", \"Hydration and warm fluids\"],\n",
    "    \"strep_throat\": [\"Consult a doctor for antibiotics\", \"Warm salt-water gargle\", \"Pain relief tablets\"],\n",
    "    \"migraine\": [\"Ibuprofen or Paracetamol\", \"Rest in a dark room\", \"Avoid bright light and loud sounds\"],\n",
    "    \"acid_reflux\": [\"Antacids like Gaviscon\", \"Avoid spicy/fatty foods\", \"Don’t lie down after meals\"],\n",
    "    \"allergic_rhinitis\": [\"Antihistamines like Cetirizine\", \"Avoid allergens\", \"Use nasal spray if needed\"],\n",
    "    \"covid_19\": [\"Paracetamol for fever\", \"Rest and stay hydrated\", \"Consult doctor if breathing difficulty\"],\n",
    "    \"gastroenteritis\": [\"Oral rehydration salts (ORS)\", \"Rest and light diet\", \"Avoid spicy foods\"],\n",
    "}"
   ]
  },
  {
   "cell_type": "code",
   "execution_count": 225,
   "id": "3f3d3e68",
   "metadata": {},
   "outputs": [],
   "source": [
    "def suggest_medicine(disease: str) -> str:\n",
    "    if disease not in medicine_suggestions:\n",
    "        return \"No medicine information available for this disease.\"\n",
    "\n",
    "    meds = medicine_suggestions[disease]\n",
    "    return f\"Suggested medicines/treatments for {disease.replace('_', ' ')}:\\n- \" + \"\\n- \".join(meds)\n"
   ]
  },
  {
   "cell_type": "markdown",
   "id": "49097483",
   "metadata": {},
   "source": [
    "##### Helper"
   ]
  },
  {
   "cell_type": "code",
   "execution_count": 226,
   "id": "08cbf5ad",
   "metadata": {},
   "outputs": [],
   "source": [
    "import json\n",
    "import re\n",
    "\n",
    "available_tools = {\n",
    "    \"find_disease\": find_disease,\n",
    "    \"suggest_medicine\": suggest_medicine\n",
    "}\n",
    "\n",
    "\n",
    "def parse_tool_call(reply: str):\n",
    "    pattern = r\"```tool_call\\s*(\\{.*?\\})\\s*```\"\n",
    "    match = re.search(pattern, reply, re.DOTALL)\n",
    "    \n",
    "    if not match:\n",
    "        return reply\n",
    "\n",
    "    try:\n",
    "        data = json.loads(match.group(1))\n",
    "        tool_name = data.get(\"tool\")\n",
    "        args = data.get(\"args\", {})\n",
    "\n",
    "        if tool_name not in available_tools:\n",
    "            return f\"Unknown tool: {tool_name}\"\n",
    "\n",
    "        # Execute tool \n",
    "        try:\n",
    "            result = available_tools[tool_name](**args)\n",
    "            return f\"Tool '{tool_name}' executed successfully.\\nResult: {result}\"\n",
    "        except Exception as e:\n",
    "            return f\"Error executing '{tool_name}': {e}\"\n",
    "\n",
    "    except json.JSONDecodeError:\n",
    "        return \"Invalid JSON in tool call.\"\n"
   ]
  },
  {
   "cell_type": "markdown",
   "id": "0179950d",
   "metadata": {},
   "source": [
    "### Let's test the primitive ReAct agent"
   ]
  },
  {
   "cell_type": "code",
   "execution_count": 227,
   "id": "0e6079f6",
   "metadata": {},
   "outputs": [],
   "source": [
    "agent = ReactAgent()"
   ]
  },
  {
   "cell_type": "code",
   "execution_count": 228,
   "id": "f1517340",
   "metadata": {},
   "outputs": [
    {
     "name": "stdout",
     "output_type": "stream",
     "text": [
      "A ReAct agent is like a super-smart assistant that helps answer questions and perform tasks by thinking step-by-step. \n",
      "\n",
      "Imagine you're using a robot to help you decide what to do in a situation, and it uses tools like a flashlight, a map, and a guidebook to gather information and make decisions.\n",
      "\n",
      "Here's how a ReAct agent works:\n",
      "\n",
      "1. You ask the agent a question or give it a task.\n",
      "2. The agent breaks down the question into smaller parts to understand what you need.\n",
      "3. It uses special tools (like the flashlight, map, and guidebook) to get the information it needs.\n",
      "4. The agent looks at the information it has gathered and thinks about the best way to proceed.\n",
      "5. Finally, the agent gives you the answer or solution to your problem.\n",
      "\n",
      "So, in simple terms, a ReAct agent is a clever tool that helps you find answers and solve problems by using its own smart thinking and a set of pre-made tools.\n"
     ]
    }
   ],
   "source": [
    "print(agent.chat(\"Explain what a ReAct agent is in simple terms.\"))\n"
   ]
  },
  {
   "cell_type": "code",
   "execution_count": 229,
   "id": "53ec956c",
   "metadata": {},
   "outputs": [
    {
     "name": "stdout",
     "output_type": "stream",
     "text": [
      "```tool_call\n",
      "{\"tool\": \"find_disease\", \"args\": {\"text\": \"sore throat, mild fever, and cough\"}}```\n",
      "\n",
      "After detecting the disease, I will use another tool to suggest medications for it.\n"
     ]
    }
   ],
   "source": [
    "res =agent.chat(\"I have a sore throat, mild fever, and cough. Can you suggest what medicine I can take?\")\n",
    "print(res)\n"
   ]
  },
  {
   "cell_type": "code",
   "execution_count": 230,
   "id": "8a43e9ed",
   "metadata": {},
   "outputs": [],
   "source": [
    "result = parse_tool_call(res)"
   ]
  },
  {
   "cell_type": "code",
   "execution_count": 231,
   "id": "ad1da1af",
   "metadata": {},
   "outputs": [
    {
     "data": {
      "text/plain": [
       "\"Tool 'find_disease' executed successfully.\\nResult: common_cold\""
      ]
     },
     "execution_count": 231,
     "metadata": {},
     "output_type": "execute_result"
    }
   ],
   "source": [
    "result"
   ]
  },
  {
   "cell_type": "code",
   "execution_count": 232,
   "id": "58ce0c39",
   "metadata": {},
   "outputs": [
    {
     "name": "stdout",
     "output_type": "stream",
     "text": [
      "```tool_call\n",
      "{\"tool\": \"suggest_medicine\", \"args\": {\"disease\": \"common_cold\"}}```\n"
     ]
    }
   ],
   "source": [
    "res =agent.chat(result)\n",
    "print(res)\n"
   ]
  },
  {
   "cell_type": "code",
   "execution_count": 233,
   "id": "edfc881f",
   "metadata": {},
   "outputs": [
    {
     "data": {
      "text/plain": [
       "\"Tool 'suggest_medicine' executed successfully.\\nResult: Suggested medicines/treatments for common cold:\\n- Paracetamol for fever\\n- Cough syrup\\n- Rest and drink plenty of fluids\""
      ]
     },
     "execution_count": 233,
     "metadata": {},
     "output_type": "execute_result"
    }
   ],
   "source": [
    "result = parse_tool_call(res)\n",
    "result "
   ]
  },
  {
   "cell_type": "code",
   "execution_count": 234,
   "id": "c6b6fce0",
   "metadata": {},
   "outputs": [
    {
     "name": "stdout",
     "output_type": "stream",
     "text": [
      "Based on the results, it seems that you have a common cold. To help manage your symptoms, you can consider taking the following:\n",
      "\n",
      "1. Paracetamol to reduce your fever.\n",
      "2. A cough syrup to help soothe your cough.\n",
      "3. Rest as much as possible to help your body recover.\n",
      "4. Drink plenty of fluids, such as water, tea, or soup, to stay hydrated and help loosen up mucus.\n",
      "\n",
      "Please note that if your symptoms persist or worsen, it's always best to consult a healthcare professional for further guidance and advice.\n"
     ]
    }
   ],
   "source": [
    "res =agent.chat(result)\n",
    "print(res)\n"
   ]
  },
  {
   "cell_type": "markdown",
   "id": "cc551559",
   "metadata": {},
   "source": [
    "## Now, a complete loop to handle queries\n"
   ]
  },
  {
   "cell_type": "code",
   "execution_count": 235,
   "id": "d69fe664",
   "metadata": {},
   "outputs": [],
   "source": [
    "agent = ReactAgent()"
   ]
  },
  {
   "cell_type": "code",
   "execution_count": null,
   "id": "d701a846",
   "metadata": {},
   "outputs": [],
   "source": [
    "MAX_LOOP = 5\n",
    "\n",
    "def react_loop(query: str, agent: ReactAgent) -> str:\n",
    "    current_input = query\n",
    "    print(f\"USER QUERY: {query}\\n\")\n",
    "\n",
    "    for step in range(1, MAX_LOOP + 1):\n",
    "        print(f\"--Step {step}--\")\n",
    "\n",
    "        # Sendd input to LLM\n",
    "        llm_res = agent.chat(current_input)\n",
    "        print(f\"\\n LLM Response:\\n{llm_res}\\n\")\n",
    "\n",
    "        # Try to parse and execute any tool call\n",
    "        tool_output = parse_tool_call(llm_res)\n",
    "        print(f\"Tool Output:\\n{tool_output}\\n\")\n",
    "\n",
    "        # If LLM result and tool output are same, it means no new action\n",
    "        if llm_res == tool_output or tool_output is None or \"No tool call\" in str(tool_output):\n",
    "            print(\"Final answer detected or no tool call.\")\n",
    "            return llm_res\n",
    "\n",
    "        # Otherwise, feed the tool result back as an observation\n",
    "        observation = f\"Observation: {tool_output}\"\n",
    "        print(f\"Feeding observation back:\\n{observation}\\n\")\n",
    "        current_input = observation\n",
    "\n",
    "    print(\"Max loop reached; returning last LLM output.\")\n",
    "    return llm_res\n"
   ]
  },
  {
   "cell_type": "code",
   "execution_count": 237,
   "id": "bdacdc07",
   "metadata": {},
   "outputs": [
    {
     "name": "stdout",
     "output_type": "stream",
     "text": [
      "USER QUERY: Hi\n",
      "\n",
      "--Step 1--\n",
      "\n",
      " LLM Response:\n",
      "Hello! It's nice to meet you. Is there anything I can help you with today?\n",
      "\n",
      "Tool Output:\n",
      "Hello! It's nice to meet you. Is there anything I can help you with today?\n",
      "\n",
      "Final answer detected or no tool call.\n",
      "Hello! It's nice to meet you. Is there anything I can help you with today?\n"
     ]
    }
   ],
   "source": [
    "print(react_loop(\"Hi\", agent))"
   ]
  },
  {
   "cell_type": "code",
   "execution_count": 238,
   "id": "e480b850",
   "metadata": {},
   "outputs": [
    {
     "name": "stdout",
     "output_type": "stream",
     "text": [
      "USER QUERY: I have sore throat, mild fever, and cough. What should I take?\n",
      "\n",
      "--Step 1--\n",
      "\n",
      " LLM Response:\n",
      "```tool_call\n",
      "{\n",
      "  \"tool\": \"find_disease\", \n",
      "  \"args\": {\n",
      "    \"text\": \"Sore throat, mild fever, and cough\"\n",
      "  }\n",
      "}\n",
      "```\n",
      "Please wait while I evaluate the tool output.\n",
      "\n",
      "Tool Output:\n",
      "Tool 'find_disease' executed successfully.\n",
      "Result: common_cold\n",
      "\n",
      "Feeding observation back:\n",
      "Observation: Tool 'find_disease' executed successfully.\n",
      "Result: common_cold\n",
      "\n",
      "--Step 2--\n",
      "\n",
      " LLM Response:\n",
      "Based on the result, it's likely that you have a common cold. I'll use the 'suggest_medicine' tool to provide suggestions for a common cold.\n",
      "\n",
      "```tool_call\n",
      "{\n",
      "  \"tool\": \"suggest_medicine\", \n",
      "  \"args\": {\n",
      "    \"disease\": \"common_cold\"\n",
      "  }\n",
      "}\n",
      "```\n",
      "Please wait while I evaluate the tool output.\n",
      "\n",
      "Tool Output:\n",
      "Tool 'suggest_medicine' executed successfully.\n",
      "Result: Suggested medicines/treatments for common cold:\n",
      "- Paracetamol for fever\n",
      "- Cough syrup\n",
      "- Rest and drink plenty of fluids\n",
      "\n",
      "Feeding observation back:\n",
      "Observation: Tool 'suggest_medicine' executed successfully.\n",
      "Result: Suggested medicines/treatments for common cold:\n",
      "- Paracetamol for fever\n",
      "- Cough syrup\n",
      "- Rest and drink plenty of fluids\n",
      "\n",
      "--Step 3--\n",
      "\n",
      " LLM Response:\n",
      "Consider taking paracetamol for your fever, using a cough syrup to help with your cough, and resting as much as possible while drinking plenty of fluids to help your body recover from the common cold. If your symptoms worsen or persist, it's always a good idea to consult with a healthcare professional for further guidance.\n",
      "\n",
      "Tool Output:\n",
      "Consider taking paracetamol for your fever, using a cough syrup to help with your cough, and resting as much as possible while drinking plenty of fluids to help your body recover from the common cold. If your symptoms worsen or persist, it's always a good idea to consult with a healthcare professional for further guidance.\n",
      "\n",
      "Final answer detected or no tool call.\n",
      "Consider taking paracetamol for your fever, using a cough syrup to help with your cough, and resting as much as possible while drinking plenty of fluids to help your body recover from the common cold. If your symptoms worsen or persist, it's always a good idea to consult with a healthcare professional for further guidance.\n"
     ]
    }
   ],
   "source": [
    "print(react_loop(\"I have sore throat, mild fever, and cough. What should I take?\", agent))"
   ]
  },
  {
   "cell_type": "markdown",
   "id": "6f12c72b",
   "metadata": {},
   "source": [
    "### React response"
   ]
  },
  {
   "cell_type": "markdown",
   "id": "4bcdf482",
   "metadata": {},
   "source": [
    "USER QUERY: I have sore throat, mild fever, and cough. What should I take?\n",
    "\n",
    "--Step 1--\n",
    "\n",
    " LLM Response:\n",
    "```tool_call\n",
    "{\n",
    "  \"tool\": \"find_disease\", \n",
    "  \"args\": {\n",
    "    \"text\": \"Sore throat, mild fever, and cough\"\n",
    "  }\n",
    "}\n",
    "```\n",
    "Please wait while I evaluate the tool output.\n",
    "\n",
    "Tool Output:\n",
    "Tool 'find_disease' executed successfully.\n",
    "Result: common_cold\n",
    "\n",
    "Feeding observation back:\n",
    "Observation: Tool 'find_disease' executed successfully.\n",
    "Result: common_cold\n",
    "\n",
    "--Step 2--\n",
    "\n",
    " LLM Response:\n",
    "Based on the result, it's likely that you have a common cold. I'll use the 'suggest_medicine' tool to provide suggestions for a common cold.\n",
    "\n",
    "```tool_call\n",
    "{\n",
    "  \"tool\": \"suggest_medicine\", \n",
    "  \"args\": {\n",
    "    \"disease\": \"common_cold\"\n",
    "  }\n",
    "}\n",
    "```\n",
    "Please wait while I evaluate the tool output.\n",
    "\n",
    "Tool Output:\n",
    "Tool 'suggest_medicine' executed successfully.\n",
    "Result: Suggested medicines/treatments for common cold:\n",
    "- Paracetamol for fever\n",
    "- Cough syrup\n",
    "- Rest and drink plenty of fluids\n",
    "\n",
    "Feeding observation back:\n",
    "Observation: Tool 'suggest_medicine' executed successfully.\n",
    "Result: Suggested medicines/treatments for common cold:\n",
    "- Paracetamol for fever\n",
    "- Cough syrup\n",
    "- Rest and drink plenty of fluids\n",
    "\n",
    "--Step 3--\n",
    "\n",
    " LLM Response:\n",
    "Consider taking paracetamol for your fever, using a cough syrup to help with your cough, and resting as much as possible while drinking plenty of fluids to help your body recover from the common cold. If your symptoms worsen or persist, it's always a good idea to consult with a healthcare professional for further guidance.\n",
    "\n",
    "Tool Output:\n",
    "Consider taking paracetamol for your fever, using a cough syrup to help with your cough, and resting as much as possible while drinking plenty of fluids to help your body recover from the common cold. If your symptoms worsen or persist, it's always a good idea to consult with a healthcare professional for further guidance.\n",
    "\n",
    "Final answer detected or no tool call.\n",
    "Consider taking paracetamol for your fever, using a cough syrup to help with your cough, and resting as much as possible while drinking plenty of fluids to help your body recover from the common cold. If your symptoms worsen or persist, it's always a good idea to consult with a healthcare professional for further guidance."
   ]
  },
  {
   "cell_type": "code",
   "execution_count": null,
   "id": "a0f6f5f5",
   "metadata": {},
   "outputs": [],
   "source": []
  },
  {
   "cell_type": "code",
   "execution_count": null,
   "id": "35af2d6f",
   "metadata": {},
   "outputs": [],
   "source": []
  }
 ],
 "metadata": {
  "kernelspec": {
   "display_name": "ml",
   "language": "python",
   "name": "ml"
  },
  "language_info": {
   "codemirror_mode": {
    "name": "ipython",
    "version": 3
   },
   "file_extension": ".py",
   "mimetype": "text/x-python",
   "name": "python",
   "nbconvert_exporter": "python",
   "pygments_lexer": "ipython3",
   "version": "3.11.6"
  }
 },
 "nbformat": 4,
 "nbformat_minor": 5
}
